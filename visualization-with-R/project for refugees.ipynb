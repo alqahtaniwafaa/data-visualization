{
 "cells": [
  {
   "cell_type": "code",
   "execution_count": 1,
   "id": "pending-brooks",
   "metadata": {},
   "outputs": [
    {
     "name": "stderr",
     "output_type": "stream",
     "text": [
      "Registered S3 method overwritten by 'rvest':\n",
      "  method            from\n",
      "  read_xml.response xml2\n",
      "-- Attaching packages --------------------------------------- tidyverse 1.2.1 --\n",
      "v ggplot2 3.3.3       v purrr   0.3.2  \n",
      "v tibble  2.1.1       v dplyr   0.8.0.1\n",
      "v tidyr   0.8.3       v stringr 1.4.0  \n",
      "v readr   1.3.1       v forcats 0.4.0  \n",
      "Warning message:\n",
      "\"package 'ggplot2' was built under R version 3.6.3\"-- Conflicts ------------------------------------------ tidyverse_conflicts() --\n",
      "x dplyr::filter() masks stats::filter()\n",
      "x dplyr::lag()    masks stats::lag()\n",
      "\n",
      "Attaching package: 'lubridate'\n",
      "\n",
      "The following object is masked from 'package:base':\n",
      "\n",
      "    date\n",
      "\n"
     ]
    }
   ],
   "source": [
    "library(tidyverse)    # For ggplot, dplyr, and friends\n",
    "library(countrycode)  # For dealing with country names, abbreviations, and codes\n",
    "library(lubridate)    # For dealing with dates"
   ]
  },
  {
   "cell_type": "code",
   "execution_count": 2,
   "id": "bizarre-municipality",
   "metadata": {},
   "outputs": [
    {
     "name": "stderr",
     "output_type": "stream",
     "text": [
      "Parsed with column specification:\n",
      "cols(\n",
      "  `Continent/Country of Nationality` = col_character(),\n",
      "  `2006` = col_number(),\n",
      "  `2007` = col_number(),\n",
      "  `2008` = col_number(),\n",
      "  `2009` = col_number(),\n",
      "  `2010` = col_number(),\n",
      "  `2011` = col_number(),\n",
      "  `2012` = col_number(),\n",
      "  `2013` = col_number(),\n",
      "  `2014` = col_number(),\n",
      "  `2015` = col_number()\n",
      ")\n"
     ]
    }
   ],
   "source": [
    "refugees_raw <- read_csv(\"C:/Users/wf8az/Downloads/refugee_status.csv\", na = c(\"-\", \"X\", \"D\")) \n"
   ]
  },
  {
   "cell_type": "code",
   "execution_count": 3,
   "id": "quantitative-internship",
   "metadata": {},
   "outputs": [],
   "source": [
    "non_countries <- c(\"Africa\", \"Asia\", \"Europe\", \"North America\", \"Oceania\", \n",
    "                   \"South America\", \"Unknown\", \"Other\", \"Total\")"
   ]
  },
  {
   "cell_type": "code",
   "execution_count": 4,
   "id": "hawaiian-catholic",
   "metadata": {},
   "outputs": [],
   "source": [
    "refugees_clean <- refugees_raw %>%\n",
    "  # Make this column name easier to work with\n",
    "  rename(origin_country = `Continent/Country of Nationality`) %>%\n",
    "  # Get rid of non-countries\n",
    "  filter(!(origin_country %in% non_countries)) %>%\n",
    "  # Convert country names to ISO3 codes\n",
    "  mutate(iso3 = countrycode(origin_country, \"country.name\", \"iso3c\",\n",
    "                            custom_match = c(\"Korea, North\" = \"PRK\"))) %>%\n",
    "  # Convert ISO3 codes to country names, regions, and continents\n",
    "  mutate(origin_country = countrycode(iso3, \"iso3c\", \"country.name\"),\n",
    "         origin_region = countrycode(iso3, \"iso3c\", \"region\"),\n",
    "         origin_continent = countrycode(iso3, \"iso3c\", \"continent\")) %>%\n",
    "  # Make this data tidy\n",
    "  gather(year, number, -origin_country, -iso3, -origin_region, -origin_continent) %>%\n",
    "  # Make sure the year column is numeric + make an actual date column for years\n",
    "  mutate(year = as.numeric(year),\n",
    "         year_date = ymd(paste0(year, \"-01-01\")))"
   ]
  },
  {
   "cell_type": "code",
   "execution_count": 5,
   "id": "abandoned-bangkok",
   "metadata": {},
   "outputs": [
    {
     "data": {
      "text/html": [
       "<table>\n",
       "<thead><tr><th scope=col>origin_country</th><th scope=col>iso3</th><th scope=col>origin_region</th><th scope=col>origin_continent</th><th scope=col>year</th><th scope=col>number</th><th scope=col>year_date</th></tr></thead>\n",
       "<tbody>\n",
       "\t<tr><td>Afghanistan          </td><td>AFG                  </td><td>South Asia           </td><td>Asia                 </td><td>2006                 </td><td>651                  </td><td>2006-01-01           </td></tr>\n",
       "\t<tr><td>Angola               </td><td>AGO                  </td><td>Sub-Saharan Africa   </td><td>Africa               </td><td>2006                 </td><td> 13                  </td><td>2006-01-01           </td></tr>\n",
       "\t<tr><td><span style=white-space:pre-wrap>Armenia    </span></td><td>ARM                                                </td><td>Europe &amp; Central Asia                          </td><td><span style=white-space:pre-wrap>Asia  </span>     </td><td>2006                                               </td><td> 87                                                </td><td>2006-01-01                                         </td></tr>\n",
       "\t<tr><td>Azerbaijan                                    </td><td>AZE                                           </td><td>Europe &amp; Central Asia                     </td><td><span style=white-space:pre-wrap>Asia  </span></td><td>2006                                          </td><td> 77                                           </td><td>2006-01-01                                    </td></tr>\n",
       "\t<tr><td><span style=white-space:pre-wrap>Belarus    </span></td><td>BLR                                                </td><td>Europe &amp; Central Asia                          </td><td>Europe                                             </td><td>2006                                               </td><td>350                                                </td><td>2006-01-01                                         </td></tr>\n",
       "\t<tr><td>Bhutan               </td><td>BTN                  </td><td>South Asia           </td><td>Asia                 </td><td>2006                 </td><td>  3                  </td><td>2006-01-01           </td></tr>\n",
       "</tbody>\n",
       "</table>\n"
      ],
      "text/latex": [
       "\\begin{tabular}{r|lllllll}\n",
       " origin\\_country & iso3 & origin\\_region & origin\\_continent & year & number & year\\_date\\\\\n",
       "\\hline\n",
       "\t Afghanistan           & AFG                   & South Asia            & Asia                  & 2006                  & 651                   & 2006-01-01           \\\\\n",
       "\t Angola                & AGO                   & Sub-Saharan Africa    & Africa                & 2006                  &  13                   & 2006-01-01           \\\\\n",
       "\t Armenia                 & ARM                     & Europe \\& Central Asia & Asia                    & 2006                    &  87                     & 2006-01-01             \\\\\n",
       "\t Azerbaijan              & AZE                     & Europe \\& Central Asia & Asia                    & 2006                    &  77                     & 2006-01-01             \\\\\n",
       "\t Belarus                 & BLR                     & Europe \\& Central Asia & Europe                  & 2006                    & 350                     & 2006-01-01             \\\\\n",
       "\t Bhutan                & BTN                   & South Asia            & Asia                  & 2006                  &   3                   & 2006-01-01           \\\\\n",
       "\\end{tabular}\n"
      ],
      "text/markdown": [
       "\n",
       "| origin_country | iso3 | origin_region | origin_continent | year | number | year_date |\n",
       "|---|---|---|---|---|---|---|\n",
       "| Afghanistan           | AFG                   | South Asia            | Asia                  | 2006                  | 651                   | 2006-01-01            |\n",
       "| Angola                | AGO                   | Sub-Saharan Africa    | Africa                | 2006                  |  13                   | 2006-01-01            |\n",
       "| Armenia               | ARM                   | Europe & Central Asia | Asia                  | 2006                  |  87                   | 2006-01-01            |\n",
       "| Azerbaijan            | AZE                   | Europe & Central Asia | Asia                  | 2006                  |  77                   | 2006-01-01            |\n",
       "| Belarus               | BLR                   | Europe & Central Asia | Europe                | 2006                  | 350                   | 2006-01-01            |\n",
       "| Bhutan                | BTN                   | South Asia            | Asia                  | 2006                  |   3                   | 2006-01-01            |\n",
       "\n"
      ],
      "text/plain": [
       "  origin_country iso3 origin_region         origin_continent year number\n",
       "1 Afghanistan    AFG  South Asia            Asia             2006 651   \n",
       "2 Angola         AGO  Sub-Saharan Africa    Africa           2006  13   \n",
       "3 Armenia        ARM  Europe & Central Asia Asia             2006  87   \n",
       "4 Azerbaijan     AZE  Europe & Central Asia Asia             2006  77   \n",
       "5 Belarus        BLR  Europe & Central Asia Europe           2006 350   \n",
       "6 Bhutan         BTN  South Asia            Asia             2006   3   \n",
       "  year_date \n",
       "1 2006-01-01\n",
       "2 2006-01-01\n",
       "3 2006-01-01\n",
       "4 2006-01-01\n",
       "5 2006-01-01\n",
       "6 2006-01-01"
      ]
     },
     "metadata": {},
     "output_type": "display_data"
    }
   ],
   "source": [
    "head(refugees_clean)"
   ]
  },
  {
   "cell_type": "code",
   "execution_count": 6,
   "id": "sacred-laser",
   "metadata": {},
   "outputs": [
    {
     "name": "stderr",
     "output_type": "stream",
     "text": [
      "Warning message:\n",
      "\"Removed 3 row(s) containing missing values (geom_path).\"Warning message:\n",
      "\"Removed 109 rows containing missing values (geom_point).\""
     ]
    },
    {
     "data": {
      "image/png": "[encoded data removed]",
      "text/plain": [
       "plot without title"
      ]
     },
     "metadata": {},
     "output_type": "display_data"
    }
   ],
   "source": [
    "val <-refugees_clean\n",
    " \n",
    "# Basic Line\n",
    "ggplot(data=val, aes(x=year_date, y=number, group=year_date, colour=year_date)) +\n",
    "  geom_line()+\n",
    "  geom_point()+ ggtitle(\" Number of refugees settle in US every year \")+ coord_flip()"
   ]
  },
  {
   "cell_type": "code",
   "execution_count": 7,
   "id": "eligible-stamp",
   "metadata": {},
   "outputs": [
    {
     "name": "stderr",
     "output_type": "stream",
     "text": [
      "Warning message:\n",
      "\"Removed 3 row(s) containing missing values (geom_path).\"Warning message:\n",
      "\"Removed 109 rows containing missing values (geom_point).\""
     ]
    },
    {
     "data": {
      "text/html": [
       "<strong>png:</strong> 2"
      ],
      "text/latex": [
       "\\textbf{png:} 2"
      ],
      "text/markdown": [
       "**png:** 2"
      ],
      "text/plain": [
       "png \n",
       "  2 "
      ]
     },
     "metadata": {},
     "output_type": "display_data"
    }
   ],
   "source": [
    "pdf(file = \"C:/Users/wf8az/Downloads/MyPlot1.pdf\",   # The directory you want to save the file in\n",
    "    width = 10, # The width of the plot in inches\n",
    "    height = 10) # The height of the plot in inches\n",
    "\n",
    "# Step 2: Create the plot with R code\n",
    "val <-refugees_clean\n",
    "  \n",
    "# Basic Line\n",
    "ggplot(data=val, aes(x=year_date, y=number, group=year_date, colour=year_date)) +\n",
    "  geom_line()+\n",
    "  geom_point()+ ggtitle(\" Number of refugees settle in US every year \")+ coord_flip()\n",
    "# Step 3: Run dev.off() to create the file!\n",
    "dev.off()"
   ]
  },
  {
   "cell_type": "code",
   "execution_count": 8,
   "id": "coordinate-feeding",
   "metadata": {},
   "outputs": [],
   "source": [
    "refugees_countries_cumulative <- refugees_clean %>%\n",
    "  arrange(year_date) %>%\n",
    "  group_by(origin_country) %>%\n",
    "  mutate(cumulative_total = cumsum(number))"
   ]
  },
  {
   "cell_type": "code",
   "execution_count": 9,
   "id": "gorgeous-practitioner",
   "metadata": {},
   "outputs": [
    {
     "data": {
      "text/html": [
       "<table>\n",
       "<thead><tr><th scope=col>origin_country</th><th scope=col>iso3</th><th scope=col>origin_region</th><th scope=col>origin_continent</th><th scope=col>year</th><th scope=col>number</th><th scope=col>year_date</th><th scope=col>cumulative_total</th></tr></thead>\n",
       "<tbody>\n",
       "\t<tr><td>Afghanistan          </td><td>AFG                  </td><td>South Asia           </td><td>Asia                 </td><td>2006                 </td><td>651                  </td><td>2006-01-01           </td><td>651                  </td></tr>\n",
       "\t<tr><td>Angola               </td><td>AGO                  </td><td>Sub-Saharan Africa   </td><td>Africa               </td><td>2006                 </td><td> 13                  </td><td>2006-01-01           </td><td> 13                  </td></tr>\n",
       "\t<tr><td><span style=white-space:pre-wrap>Armenia    </span></td><td>ARM                                                </td><td>Europe &amp; Central Asia                          </td><td><span style=white-space:pre-wrap>Asia  </span>     </td><td>2006                                               </td><td> 87                                                </td><td>2006-01-01                                         </td><td> 87                                                </td></tr>\n",
       "\t<tr><td>Azerbaijan                                    </td><td>AZE                                           </td><td>Europe &amp; Central Asia                     </td><td><span style=white-space:pre-wrap>Asia  </span></td><td>2006                                          </td><td> 77                                           </td><td>2006-01-01                                    </td><td> 77                                           </td></tr>\n",
       "\t<tr><td><span style=white-space:pre-wrap>Belarus    </span></td><td>BLR                                                </td><td>Europe &amp; Central Asia                          </td><td>Europe                                             </td><td>2006                                               </td><td>350                                                </td><td>2006-01-01                                         </td><td>350                                                </td></tr>\n",
       "\t<tr><td>Bhutan               </td><td>BTN                  </td><td>South Asia           </td><td>Asia                 </td><td>2006                 </td><td>  3                  </td><td>2006-01-01           </td><td>  3                  </td></tr>\n",
       "</tbody>\n",
       "</table>\n"
      ],
      "text/latex": [
       "\\begin{tabular}{r|llllllll}\n",
       " origin\\_country & iso3 & origin\\_region & origin\\_continent & year & number & year\\_date & cumulative\\_total\\\\\n",
       "\\hline\n",
       "\t Afghanistan           & AFG                   & South Asia            & Asia                  & 2006                  & 651                   & 2006-01-01            & 651                  \\\\\n",
       "\t Angola                & AGO                   & Sub-Saharan Africa    & Africa                & 2006                  &  13                   & 2006-01-01            &  13                  \\\\\n",
       "\t Armenia                 & ARM                     & Europe \\& Central Asia & Asia                    & 2006                    &  87                     & 2006-01-01              &  87                    \\\\\n",
       "\t Azerbaijan              & AZE                     & Europe \\& Central Asia & Asia                    & 2006                    &  77                     & 2006-01-01              &  77                    \\\\\n",
       "\t Belarus                 & BLR                     & Europe \\& Central Asia & Europe                  & 2006                    & 350                     & 2006-01-01              & 350                    \\\\\n",
       "\t Bhutan                & BTN                   & South Asia            & Asia                  & 2006                  &   3                   & 2006-01-01            &   3                  \\\\\n",
       "\\end{tabular}\n"
      ],
      "text/markdown": [
       "\n",
       "| origin_country | iso3 | origin_region | origin_continent | year | number | year_date | cumulative_total |\n",
       "|---|---|---|---|---|---|---|---|\n",
       "| Afghanistan           | AFG                   | South Asia            | Asia                  | 2006                  | 651                   | 2006-01-01            | 651                   |\n",
       "| Angola                | AGO                   | Sub-Saharan Africa    | Africa                | 2006                  |  13                   | 2006-01-01            |  13                   |\n",
       "| Armenia               | ARM                   | Europe & Central Asia | Asia                  | 2006                  |  87                   | 2006-01-01            |  87                   |\n",
       "| Azerbaijan            | AZE                   | Europe & Central Asia | Asia                  | 2006                  |  77                   | 2006-01-01            |  77                   |\n",
       "| Belarus               | BLR                   | Europe & Central Asia | Europe                | 2006                  | 350                   | 2006-01-01            | 350                   |\n",
       "| Bhutan                | BTN                   | South Asia            | Asia                  | 2006                  |   3                   | 2006-01-01            |   3                   |\n",
       "\n"
      ],
      "text/plain": [
       "  origin_country iso3 origin_region         origin_continent year number\n",
       "1 Afghanistan    AFG  South Asia            Asia             2006 651   \n",
       "2 Angola         AGO  Sub-Saharan Africa    Africa           2006  13   \n",
       "3 Armenia        ARM  Europe & Central Asia Asia             2006  87   \n",
       "4 Azerbaijan     AZE  Europe & Central Asia Asia             2006  77   \n",
       "5 Belarus        BLR  Europe & Central Asia Europe           2006 350   \n",
       "6 Bhutan         BTN  South Asia            Asia             2006   3   \n",
       "  year_date  cumulative_total\n",
       "1 2006-01-01 651             \n",
       "2 2006-01-01  13             \n",
       "3 2006-01-01  87             \n",
       "4 2006-01-01  77             \n",
       "5 2006-01-01 350             \n",
       "6 2006-01-01   3             "
      ]
     },
     "metadata": {},
     "output_type": "display_data"
    }
   ],
   "source": [
    "head(refugees_countries_cumulative)"
   ]
  },
  {
   "cell_type": "code",
   "execution_count": 10,
   "id": "spanish-aging",
   "metadata": {},
   "outputs": [
    {
     "name": "stderr",
     "output_type": "stream",
     "text": [
      "Warning message:\n",
      "\"Removed 4 row(s) containing missing values (geom_path).\"Warning message:\n",
      "\"Removed 109 rows containing missing values (geom_point).\""
     ]
    },
    {
     "data": {
      "image/png": "[encoded data removed]",
      "text/plain": [
       "plot without title"
      ]
     },
     "metadata": {},
     "output_type": "display_data"
    }
   ],
   "source": [
    "refugees_countries_cumulative %>% group_by(year) %>% arrange(desc(cumulative_total)) %>% slice(1:5) -> data\n",
    "  \n",
    "# Basic Line\n",
    "ggplot(data=val, aes(x=origin_country, y=number, group=origin_continent,colour=origin_continent)) +\n",
    "  geom_line()+\n",
    "  geom_point()+ggtitle(\" Refugees number by Origin countries group by continents \")+\n",
    "coord_flip()"
   ]
  },
  {
   "cell_type": "code",
   "execution_count": 11,
   "id": "frozen-millennium",
   "metadata": {},
   "outputs": [
    {
     "name": "stderr",
     "output_type": "stream",
     "text": [
      "Warning message:\n",
      "\"Removed 4 row(s) containing missing values (geom_path).\"Warning message:\n",
      "\"Removed 109 rows containing missing values (geom_point).\""
     ]
    },
    {
     "data": {
      "text/html": [
       "<strong>png:</strong> 2"
      ],
      "text/latex": [
       "\\textbf{png:} 2"
      ],
      "text/markdown": [
       "**png:** 2"
      ],
      "text/plain": [
       "png \n",
       "  2 "
      ]
     },
     "metadata": {},
     "output_type": "display_data"
    }
   ],
   "source": [
    "pdf(file = \"C:/Users/wf8az/Downloads/MyPlot2.pdf\",   # The directory you want to save the file in\n",
    "    width = 10, # The width of the plot in inches\n",
    "    height = 10) # The height of the plot in inches\n",
    "\n",
    "# Step 2: Create the plot with R code\n",
    "refugees_countries_cumulative %>% group_by(year) %>% arrange(desc(cumulative_total)) %>% slice(1:5) -> data\n",
    "\n",
    "#val <-refugees_countries_cumulative\n",
    "  \n",
    "# Basic Line\n",
    "ggplot(data=val, aes(x=origin_country, y=number, group=origin_continent,colour=origin_continent)) +\n",
    "  geom_line()+\n",
    "  geom_point()+ggtitle(\" Refugees number by Origin countries group by continents \")+\n",
    "coord_flip()\n",
    "\n",
    "# Step 3: Run dev.off() to create the file!\n",
    "dev.off()"
   ]
  },
  {
   "cell_type": "code",
   "execution_count": 12,
   "id": "stylish-crossing",
   "metadata": {},
   "outputs": [],
   "source": [
    "refugees_continents <- refugees_clean %>%\n",
    "  group_by(origin_continent, year_date) %>%\n",
    "  summarize(total = sum(number, na.rm = TRUE))"
   ]
  },
  {
   "cell_type": "code",
   "execution_count": 13,
   "id": "mexican-fever",
   "metadata": {},
   "outputs": [
    {
     "data": {
      "text/html": [
       "<table>\n",
       "<thead><tr><th scope=col>origin_continent</th><th scope=col>year_date</th><th scope=col>total</th></tr></thead>\n",
       "<tbody>\n",
       "\t<tr><td>Africa    </td><td>2006-01-01</td><td>18116     </td></tr>\n",
       "\t<tr><td>Africa    </td><td>2007-01-01</td><td>17473     </td></tr>\n",
       "\t<tr><td>Africa    </td><td>2008-01-01</td><td> 8931     </td></tr>\n",
       "\t<tr><td>Africa    </td><td>2009-01-01</td><td> 9664     </td></tr>\n",
       "\t<tr><td>Africa    </td><td>2010-01-01</td><td>13303     </td></tr>\n",
       "\t<tr><td>Africa    </td><td>2011-01-01</td><td> 7677     </td></tr>\n",
       "</tbody>\n",
       "</table>\n"
      ],
      "text/latex": [
       "\\begin{tabular}{r|lll}\n",
       " origin\\_continent & year\\_date & total\\\\\n",
       "\\hline\n",
       "\t Africa     & 2006-01-01 & 18116     \\\\\n",
       "\t Africa     & 2007-01-01 & 17473     \\\\\n",
       "\t Africa     & 2008-01-01 &  8931     \\\\\n",
       "\t Africa     & 2009-01-01 &  9664     \\\\\n",
       "\t Africa     & 2010-01-01 & 13303     \\\\\n",
       "\t Africa     & 2011-01-01 &  7677     \\\\\n",
       "\\end{tabular}\n"
      ],
      "text/markdown": [
       "\n",
       "| origin_continent | year_date | total |\n",
       "|---|---|---|\n",
       "| Africa     | 2006-01-01 | 18116      |\n",
       "| Africa     | 2007-01-01 | 17473      |\n",
       "| Africa     | 2008-01-01 |  8931      |\n",
       "| Africa     | 2009-01-01 |  9664      |\n",
       "| Africa     | 2010-01-01 | 13303      |\n",
       "| Africa     | 2011-01-01 |  7677      |\n",
       "\n"
      ],
      "text/plain": [
       "  origin_continent year_date  total\n",
       "1 Africa           2006-01-01 18116\n",
       "2 Africa           2007-01-01 17473\n",
       "3 Africa           2008-01-01  8931\n",
       "4 Africa           2009-01-01  9664\n",
       "5 Africa           2010-01-01 13303\n",
       "6 Africa           2011-01-01  7677"
      ]
     },
     "metadata": {},
     "output_type": "display_data"
    }
   ],
   "source": [
    "head(refugees_continents)"
   ]
  },
  {
   "cell_type": "code",
   "execution_count": 14,
   "id": "acute-planning",
   "metadata": {},
   "outputs": [],
   "source": [
    "refugees_continents_cumulative <- refugees_clean %>%\n",
    "  group_by(origin_continent, year_date) %>%\n",
    "  summarize(total = sum(number, na.rm = TRUE)) %>%\n",
    "  arrange(year_date) %>%\n",
    "  group_by(origin_continent) %>%\n",
    "  mutate(cumulative_total = cumsum(total))"
   ]
  },
  {
   "cell_type": "code",
   "execution_count": 15,
   "id": "attended-pension",
   "metadata": {},
   "outputs": [
    {
     "data": {
      "text/html": [
       "<table>\n",
       "<thead><tr><th scope=col>origin_continent</th><th scope=col>year_date</th><th scope=col>total</th><th scope=col>cumulative_total</th></tr></thead>\n",
       "<tbody>\n",
       "\t<tr><td>Africa    </td><td>2006-01-01</td><td>18116     </td><td>18116     </td></tr>\n",
       "\t<tr><td>Americas  </td><td>2006-01-01</td><td> 3258     </td><td> 3258     </td></tr>\n",
       "\t<tr><td>Asia      </td><td>2006-01-01</td><td>10076     </td><td>10076     </td></tr>\n",
       "\t<tr><td>Europe    </td><td>2006-01-01</td><td> 9605     </td><td> 9605     </td></tr>\n",
       "\t<tr><td>Africa    </td><td>2007-01-01</td><td>17473     </td><td>35589     </td></tr>\n",
       "\t<tr><td>Americas  </td><td>2007-01-01</td><td> 2976     </td><td> 6234     </td></tr>\n",
       "</tbody>\n",
       "</table>\n"
      ],
      "text/latex": [
       "\\begin{tabular}{r|llll}\n",
       " origin\\_continent & year\\_date & total & cumulative\\_total\\\\\n",
       "\\hline\n",
       "\t Africa     & 2006-01-01 & 18116      & 18116     \\\\\n",
       "\t Americas   & 2006-01-01 &  3258      &  3258     \\\\\n",
       "\t Asia       & 2006-01-01 & 10076      & 10076     \\\\\n",
       "\t Europe     & 2006-01-01 &  9605      &  9605     \\\\\n",
       "\t Africa     & 2007-01-01 & 17473      & 35589     \\\\\n",
       "\t Americas   & 2007-01-01 &  2976      &  6234     \\\\\n",
       "\\end{tabular}\n"
      ],
      "text/markdown": [
       "\n",
       "| origin_continent | year_date | total | cumulative_total |\n",
       "|---|---|---|---|\n",
       "| Africa     | 2006-01-01 | 18116      | 18116      |\n",
       "| Americas   | 2006-01-01 |  3258      |  3258      |\n",
       "| Asia       | 2006-01-01 | 10076      | 10076      |\n",
       "| Europe     | 2006-01-01 |  9605      |  9605      |\n",
       "| Africa     | 2007-01-01 | 17473      | 35589      |\n",
       "| Americas   | 2007-01-01 |  2976      |  6234      |\n",
       "\n"
      ],
      "text/plain": [
       "  origin_continent year_date  total cumulative_total\n",
       "1 Africa           2006-01-01 18116 18116           \n",
       "2 Americas         2006-01-01  3258  3258           \n",
       "3 Asia             2006-01-01 10076 10076           \n",
       "4 Europe           2006-01-01  9605  9605           \n",
       "5 Africa           2007-01-01 17473 35589           \n",
       "6 Americas         2007-01-01  2976  6234           "
      ]
     },
     "metadata": {},
     "output_type": "display_data"
    }
   ],
   "source": [
    "head(refugees_continents_cumulative)"
   ]
  },
  {
   "cell_type": "code",
   "execution_count": 17,
   "id": "velvet-boston",
   "metadata": {},
   "outputs": [
    {
     "data": {
      "image/png": "[encoded data removed]",
      "text/plain": [
       "plot without title"
      ]
     },
     "metadata": {},
     "output_type": "display_data"
    }
   ],
   "source": [
    "val <-refugees_continents_cumulative\n",
    "  \n",
    "# Basic Line\n",
    "ggplot(data=val, aes(x=year_date, y=total, group=origin_continent,colour=origin_continent)) +\n",
    "  geom_line()+\n",
    "  geom_point()+ ggtitle(\" Changes of total Refugee with each continent over years \")"
   ]
  },
  {
   "cell_type": "code",
   "execution_count": 18,
   "id": "neutral-white",
   "metadata": {},
   "outputs": [
    {
     "data": {
      "text/html": [
       "<strong>png:</strong> 2"
      ],
      "text/latex": [
       "\\textbf{png:} 2"
      ],
      "text/markdown": [
       "**png:** 2"
      ],
      "text/plain": [
       "png \n",
       "  2 "
      ]
     },
     "metadata": {},
     "output_type": "display_data"
    }
   ],
   "source": [
    "pdf(file = \"C:/Users/wf8az/Downloads/MyPlot3.pdf\",   # The directory you want to save the file in\n",
    "    width = 10, # The width of the plot in inches\n",
    "    height = 10) # The height of the plot in inches\n",
    "\n",
    "# Step 2: Create the plot with R code\n",
    "val <-refugees_continents_cumulative\n",
    "  \n",
    "# Basic Line\n",
    "ggplot(data=val, aes(x=year_date, y=total, group=origin_continent,colour=origin_continent)) +\n",
    "  geom_line()+\n",
    "  geom_point()+ ggtitle(\" Changes of total Refugee with each continent over years \")\n",
    "\n",
    "# Step 3: Run dev.off() to create the file!\n",
    "dev.off()"
   ]
  },
  {
   "cell_type": "code",
   "execution_count": 19,
   "id": "adverse-laundry",
   "metadata": {},
   "outputs": [
    {
     "data": {
      "image/png": "[encoded data removed]",
      "text/plain": [
       "plot without title"
      ]
     },
     "metadata": {},
     "output_type": "display_data"
    }
   ],
   "source": [
    "refugees_countries_cumulative %>% group_by(year_date) %>% arrange(desc(cumulative_total)) %>% slice(1:6) -> data\n",
    "ggplot(data, aes(x=origin_continent, y=number)) + geom_bar(stat = \"identity\", position = \"dodge\") + ggtitle(\" The number of refugees by continent\")"
   ]
  },
  {
   "cell_type": "code",
   "execution_count": 20,
   "id": "acting-cheat",
   "metadata": {},
   "outputs": [
    {
     "data": {
      "text/html": [
       "<strong>png:</strong> 2"
      ],
      "text/latex": [
       "\\textbf{png:} 2"
      ],
      "text/markdown": [
       "**png:** 2"
      ],
      "text/plain": [
       "png \n",
       "  2 "
      ]
     },
     "metadata": {},
     "output_type": "display_data"
    }
   ],
   "source": [
    "pdf(file = \"C:/Users/wf8az/Downloads/MyPlot4.pdf\",   # The directory you want to save the file in\n",
    "    width = 10, # The width of the plot in inches\n",
    "    height = 10) # The height of the plot in inches\n",
    "\n",
    "# Step 2: Create the plot with R code\n",
    "refugees_countries_cumulative %>% group_by(year_date) %>% arrange(desc(cumulative_total)) %>% slice(1:6) -> data\n",
    "ggplot(data, aes(x=origin_continent, y=number)) + geom_bar(stat = \"identity\", position = \"dodge\") + ggtitle(\" The number of refugees by continent\")\n",
    "\n",
    "# Step 3: Run dev.off() to create the file!\n",
    "dev.off()"
   ]
  },
  {
   "cell_type": "code",
   "execution_count": 27,
   "id": "deadly-parent",
   "metadata": {},
   "outputs": [
    {
     "data": {
      "image/png": "[encoded data removed]",
      "text/plain": [
       "plot without title"
      ]
     },
     "metadata": {},
     "output_type": "display_data"
    }
   ],
   "source": [
    "refugees_countries_cumulative %>% group_by(year_date) %>% arrange(desc(cumulative_total)) %>% slice(1:6) -> data\n",
    "ggplot(data, aes(x=origin_country, y=number, fill=origin_continent)) + geom_bar(stat = \"identity\", position = \"dodge\") + ggtitle(\" Top 10 countries refugees come from\")+\n",
    "coord_flip()"
   ]
  },
  {
   "cell_type": "code",
   "execution_count": 28,
   "id": "increased-attraction",
   "metadata": {},
   "outputs": [
    {
     "data": {
      "text/html": [
       "<strong>png:</strong> 2"
      ],
      "text/latex": [
       "\\textbf{png:} 2"
      ],
      "text/markdown": [
       "**png:** 2"
      ],
      "text/plain": [
       "png \n",
       "  2 "
      ]
     },
     "metadata": {},
     "output_type": "display_data"
    }
   ],
   "source": [
    "pdf(file = \"C:/Users/wf8az/Downloads/MyPlot5.pdf\",   # The directory you want to save the file in\n",
    "    width = 10, # The width of the plot in inches\n",
    "    height = 10) # The height of the plot in inches\n",
    "\n",
    "# Step 2: Create the plot with R code\n",
    "refugees_countries_cumulative %>% group_by(year_date) %>% arrange(desc(cumulative_total)) %>% slice(1:6) -> data\n",
    "ggplot(data, aes(x=origin_country, y=number, fill=origin_continent)) + geom_bar(stat = \"identity\", position = \"dodge\") + ggtitle(\" Top 10 countries refugees come from\")+\n",
    "coord_flip()\n",
    "# Step 3: Run dev.off() to create the file!\n",
    "dev.off()"
   ]
  },
  {
   "cell_type": "code",
   "execution_count": 23,
   "id": "speaking-crest",
   "metadata": {},
   "outputs": [
    {
     "data": {
      "image/png": "[encoded data removed]",
      "text/plain": [
       "plot without title"
      ]
     },
     "metadata": {},
     "output_type": "display_data"
    }
   ],
   "source": [
    "refugees_countries_cumulative %>% group_by(year_date) %>% arrange(desc(cumulative_total)) %>% slice(1:5) -> data\n",
    "ggplot(data, aes(x=year_date, y=cumulative_total, fill=origin_country)) + geom_bar(stat = \"identity\", position = \"dodge\") + ggtitle(\" Population with Refugee total over years & Countries with Highest Number\")"
   ]
  },
  {
   "cell_type": "code",
   "execution_count": 24,
   "id": "extended-given",
   "metadata": {},
   "outputs": [
    {
     "data": {
      "text/html": [
       "<strong>png:</strong> 2"
      ],
      "text/latex": [
       "\\textbf{png:} 2"
      ],
      "text/markdown": [
       "**png:** 2"
      ],
      "text/plain": [
       "png \n",
       "  2 "
      ]
     },
     "metadata": {},
     "output_type": "display_data"
    }
   ],
   "source": [
    "pdf(file = \"C:/Users/wf8az/Downloads/MyPlot6.pdf\",   # The directory you want to save the file in\n",
    "    width = 10, # The width of the plot in inches\n",
    "    height = 10) # The height of the plot in inches\n",
    "\n",
    "# Step 2: Create the plot with R code\n",
    "refugees_countries_cumulative %>% group_by(year_date) %>% arrange(desc(cumulative_total)) %>% slice(1:5) -> data\n",
    "ggplot(data, aes(x=year_date, y=cumulative_total, fill=origin_country)) + geom_bar(stat = \"identity\", position = \"dodge\") + ggtitle(\" Population with Refugee total over years & Countries with Highest Number\")\n",
    "# Step 3: Run dev.off() to create the file!\n",
    "dev.off()"
   ]
  },
  {
   "cell_type": "code",
   "execution_count": 25,
   "id": "certain-reaction",
   "metadata": {},
   "outputs": [
    {
     "data": {
      "image/png": "[encoded data removed]",
      "text/plain": [
       "plot without title"
      ]
     },
     "metadata": {},
     "output_type": "display_data"
    }
   ],
   "source": [
    "refugees_continents_cumulative %>% group_by(year_date) %>% arrange(desc(total)) %>% slice(1:5) -> data\n",
    "ggplot(data, aes(x=year_date, y=total, fill=origin_continent)) + geom_bar(stat = \"identity\", position = \"dodge\") + ggtitle(\" Refugee total in each year & continent with Highest Number\")"
   ]
  },
  {
   "cell_type": "code",
   "execution_count": 26,
   "id": "technological-contemporary",
   "metadata": {},
   "outputs": [
    {
     "data": {
      "text/html": [
       "<strong>png:</strong> 2"
      ],
      "text/latex": [
       "\\textbf{png:} 2"
      ],
      "text/markdown": [
       "**png:** 2"
      ],
      "text/plain": [
       "png \n",
       "  2 "
      ]
     },
     "metadata": {},
     "output_type": "display_data"
    }
   ],
   "source": [
    "pdf(file = \"C:/Users/wf8az/Downloads/MyPlot7.pdf\",   # The directory you want to save the file in\n",
    "    width = 10, # The width of the plot in inches\n",
    "    height = 10) # The height of the plot in inches\n",
    "\n",
    "# Step 2: Create the plot with R code\n",
    "refugees_continents_cumulative %>% group_by(year_date) %>% arrange(desc(total)) %>% slice(1:5) -> data\n",
    "ggplot(data, aes(x=year_date, y=total, fill=origin_continent)) + geom_bar(stat = \"identity\", position = \"dodge\") + ggtitle(\" Refugee total in each year & continent with Highest Number\")# Step 3: Run dev.off() to create the file!\n",
    "dev.off()"
   ]
  },
  {
   "cell_type": "code",
   "execution_count": null,
   "id": "excited-scholarship",
   "metadata": {},
   "outputs": [],
   "source": []
  }
 ],
 "metadata": {
  "kernelspec": {
   "display_name": "R",
   "language": "R",
   "name": "ir"
  },
  "language_info": {
   "codemirror_mode": "r",
   "file_extension": ".r",
   "mimetype": "text/x-r-source",
   "name": "R",
   "pygments_lexer": "r",
   "version": "3.6.1"
  }
 },
 "nbformat": 4,
 "nbformat_minor": 5
}
